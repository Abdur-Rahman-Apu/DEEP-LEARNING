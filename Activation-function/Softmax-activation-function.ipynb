{
 "cells": [
  {
   "cell_type": "code",
   "execution_count": 1,
   "id": "1f5ddc83-632e-4e8c-8dee-b1acac5a7486",
   "metadata": {},
   "outputs": [],
   "source": [
    "import numpy as np"
   ]
  },
  {
   "cell_type": "markdown",
   "id": "94c29e83-0847-4f16-a3f5-57fc554156a3",
   "metadata": {},
   "source": [
    "<h3 style=\"color:orange; font-size:20px; text-transform:uppercase; font-weight:bold;\">softmax function</h3>\n",
    "<p style=\"color:blue; font-size: 15px; font-weight:bold; text-transform:uppercase;\">formula</p>\n",
    "<img src=\"https://th.bing.com/th/id/OIP.fQVPyclpPCC6kFqSZqsglQAAAA?pid=ImgDet&rs=1\" alt=\"Girl in a jacket\" width=\"200\" height=\"200\">"
   ]
  },
  {
   "cell_type": "code",
   "execution_count": 2,
   "id": "08120d6b-973b-4a3f-b7b3-48545428fc99",
   "metadata": {},
   "outputs": [],
   "source": [
    "data=np.array([3,1,25,13])"
   ]
  },
  {
   "cell_type": "code",
   "execution_count": 3,
   "id": "f01f2870-afab-4962-afb0-577a7a5bc0fa",
   "metadata": {},
   "outputs": [],
   "source": [
    "upper=np.exp(data)"
   ]
  },
  {
   "cell_type": "code",
   "execution_count": 4,
   "id": "393cce81-ef27-4ebb-983b-564107d12635",
   "metadata": {},
   "outputs": [],
   "source": [
    "lower=np.sum(np.exp(data))"
   ]
  },
  {
   "cell_type": "code",
   "execution_count": 5,
   "id": "b87e7c9e-b4e2-4288-b498-86630c833bb8",
   "metadata": {},
   "outputs": [
    {
     "name": "stdout",
     "output_type": "stream",
     "text": [
      "[2.00855369e+01 2.71828183e+00 7.20048993e+10 4.42413392e+05]\n",
      "72005341773.58171\n"
     ]
    }
   ],
   "source": [
    "print(upper)\n",
    "print(lower)"
   ]
  },
  {
   "cell_type": "code",
   "execution_count": 6,
   "id": "18ffad48-d582-4f08-bc31-8d1d960141f1",
   "metadata": {},
   "outputs": [
    {
     "data": {
      "text/plain": [
       "array([2.78945095e-10, 3.77511135e-11, 9.99993856e-01, 6.14417460e-06])"
      ]
     },
     "execution_count": 6,
     "metadata": {},
     "output_type": "execute_result"
    }
   ],
   "source": [
    "softmax=upper/lower\n",
    "softmax"
   ]
  },
  {
   "cell_type": "code",
   "execution_count": 7,
   "id": "ee85bbd7-17e3-40c9-acb8-6d7dfa34c337",
   "metadata": {},
   "outputs": [
    {
     "data": {
      "text/plain": [
       "2"
      ]
     },
     "execution_count": 7,
     "metadata": {},
     "output_type": "execute_result"
    }
   ],
   "source": [
    "np.argmax(softmax)"
   ]
  },
  {
   "cell_type": "code",
   "execution_count": null,
   "id": "29406a2a-d0a3-42bc-8d32-7d030595fb42",
   "metadata": {},
   "outputs": [],
   "source": []
  }
 ],
 "metadata": {
  "kernelspec": {
   "display_name": "Python 3 (ipykernel)",
   "language": "python",
   "name": "python3"
  },
  "language_info": {
   "codemirror_mode": {
    "name": "ipython",
    "version": 3
   },
   "file_extension": ".py",
   "mimetype": "text/x-python",
   "name": "python",
   "nbconvert_exporter": "python",
   "pygments_lexer": "ipython3",
   "version": "3.7.11"
  }
 },
 "nbformat": 4,
 "nbformat_minor": 5
}
